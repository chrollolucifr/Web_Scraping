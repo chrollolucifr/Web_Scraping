{
  "nbformat": 4,
  "nbformat_minor": 0,
  "metadata": {
    "colab": {
      "provenance": []
    },
    "kernelspec": {
      "name": "python3",
      "display_name": "Python 3"
    },
    "language_info": {
      "name": "python"
    }
  },
  "cells": [
    {
      "cell_type": "code",
      "execution_count": 1,
      "metadata": {
        "id": "jy7qkw9iQCF8"
      },
      "outputs": [],
      "source": [
        "import requests\n",
        "from bs4 import BeautifulSoup\n",
        "import pandas as pd\n",
        "import urllib3\n",
        "\n",
        "# Disable SSL warnings\n",
        "urllib3.disable_warnings(urllib3.exceptions.InsecureRequestWarning)"
      ]
    },
    {
      "cell_type": "code",
      "source": [
        "# Base URL\n",
        "base_url = \"https://scrapeme.live/shop/\"\n",
        "\n",
        "# Lists to store product data\n",
        "names = []\n",
        "prices = []\n",
        "descriptions = []\n",
        "categories = []\n",
        "skus = []\n",
        "tags_list = []\n",
        "stocks = []"
      ],
      "metadata": {
        "id": "X4Q4BVs3QK2s"
      },
      "execution_count": 2,
      "outputs": []
    },
    {
      "cell_type": "code",
      "source": [
        "# Request homepage to find how many pages exist\n",
        "response = requests.get(base_url, verify=False)\n",
        "soup = BeautifulSoup(response.text, \"html.parser\")\n",
        "\n",
        "# Get last page number\n",
        "pages = soup.find_all(\"a\", class_=\"page-numbers\")\n",
        "last_page = int(pages[-2].text) if pages else 1\n",
        "\n",
        "print(f\"Total pages found: {last_page}\")"
      ],
      "metadata": {
        "colab": {
          "base_uri": "https://localhost:8080/"
        },
        "id": "a2uueyZAQNq4",
        "outputId": "7b4ab61a-1541-4b45-e013-ed3aecdc0010"
      },
      "execution_count": 3,
      "outputs": [
        {
          "output_type": "stream",
          "name": "stdout",
          "text": [
            "Total pages found: 48\n"
          ]
        }
      ]
    },
    {
      "cell_type": "code",
      "source": [
        "response"
      ],
      "metadata": {
        "colab": {
          "base_uri": "https://localhost:8080/"
        },
        "id": "1fTOxFnkRTYk",
        "outputId": "62ab756f-2d7d-46b4-c534-158ccf6647d7"
      },
      "execution_count": 6,
      "outputs": [
        {
          "output_type": "execute_result",
          "data": {
            "text/plain": [
              "<Response [200]>"
            ]
          },
          "metadata": {},
          "execution_count": 6
        }
      ]
    },
    {
      "cell_type": "code",
      "source": [
        "response.text"
      ],
      "metadata": {
        "colab": {
          "base_uri": "https://localhost:8080/",
          "height": 139
        },
        "id": "KuqATqf5RYrY",
        "outputId": "a72921b0-deab-495c-f8a3-836579a73869"
      },
      "execution_count": 7,
      "outputs": [
        {
          "output_type": "execute_result",
          "data": {
            "text/plain": [
              "'\\n<!doctype html>\\n<html lang=\"en-GB\">\\n<head>\\n<meta charset=\"UTF-8\">\\n<meta name=\"viewport\" content=\"width=device-width, initial-scale=1, maximum-scale=2.0\">\\n<link rel=\"profile\" href=\"http://gmpg.org/xfn/11\">\\n<link rel=\"pingback\" href=\"https://scrapeme.live/xmlrpc.php\">\\n\\n<title>Products &#8211; Page 48 &#8211; ScrapeMe</title>\\n<link rel=\\'dns-prefetch\\' href=\\'//fonts.googleapis.com\\' />\\n<link rel=\\'dns-prefetch\\' href=\\'//s.w.org\\' />\\n<link rel=\"alternate\" type=\"application/rss+xml\" title=\"ScrapeMe &raquo; Feed\" href=\"https://scrapeme.live/feed/\" />\\n<link rel=\"alternate\" type=\"application/rss+xml\" title=\"ScrapeMe &raquo; Comments Feed\" href=\"https://scrapeme.live/comments/feed/\" />\\n<link rel=\"alternate\" type=\"application/rss+xml\" title=\"ScrapeMe &raquo; Products Feed\" href=\"https://scrapeme.live/shop/feed/\" />\\n\\t\\t<script type=\"text/javascript\">\\n\\t\\t\\twindow._wpemojiSettings = {\"baseUrl\":\"https:\\\\/\\\\/s.w.org\\\\/images\\\\/core\\\\/emoji\\\\/11\\\\/72x72\\\\/\",\"ext\":\".png\",\"svgUrl\":\"https:\\\\/\\\\/s.w.org\\\\/images\\\\/core\\\\/emoji\\\\/11\\\\/svg\\\\/\",\"svgExt\":\".svg\",\"source\":{\"concatemoji\":\"https:\\\\/\\\\/scrapeme.live\\\\/wp-includes\\\\/js\\\\/wp-emoji-release.min.js?ver=4.9.26\"}};\\n\\t\\t\\t!function(e,a,t){var n,r,o,i=a.createElement(\"canvas\"),p=i.getContext&&i.getContext(\"2d\");function s(e,t){var a=String.fromCharCode;p.clearRect(0,0,i.width,i.height),p.fillText(a.apply(this,e),0,0);e=i.toDataURL();return p.clearRect(0,0,i.width,i.height),p.fillText(a.apply(this,t),0,0),e===i.toDataURL()}function c(e){var t=a.createElement(\"script\");t.src=e,t.defer=t.type=\"text/javascript\",a.getElementsByTagName(\"head\")[0].appendChild(t)}for(o=Array(\"flag\",\"emoji\"),t.supports={everything:!0,everythingExceptFlag:!0},r=0;r<o.length;r++)t.supports[o[r]]=function(e){if(!p||!p.fillText)return!1;switch(p.textBaseline=\"top\",p.font=\"600 32px Arial\",e){case\"flag\":return s([55356,56826,55356,56819],[55356,56826,8203,55356,56819])?!1:!s([55356,57332,56128,56423,56128,56418,56128,56421,56128,56430,56128,56423,56128,56447],[55356,57332,8203,56128,56423,8203,56128,56418,8203,56128,56421,8203,56128,56430,8203,56128,56423,8203,56128,56447]);case\"emoji\":return!s([55358,56760,9792,65039],[55358,56760,8203,9792,65039])}return!1}(o[r]),t.supports.everything=t.supports.everything&&t.supports[o[r]],\"flag\"!==o[r]&&(t.supports.everythingExceptFlag=t.supports.everythingExceptFlag&&t.supports[o[r]]);t.supports.everythingExceptFlag=t.supports.everythingExceptFlag&&!t.supports.flag,t.DOMReady=!1,t.readyCallback=function(){t.DOMReady=!0},t.supports.everything||(n=function(){t.readyCallback()},a.addEventListener?(a.addEventListener(\"DOMContentLoaded\",n,!1),e.addEventListener(\"load\",n,!1)):(e.attachEvent(\"onload\",n),a.attachEvent(\"onreadystatechange\",function(){\"complete\"===a.readyState&&t.readyCallback()})),(n=t.source||{}).concatemoji?c(n.concatemoji):n.wpemoji&&n.twemoji&&(c(n.twemoji),c(n.wpemoji)))}(window,document,window._wpemojiSettings);\\n\\t\\t</script>\\n\\t\\t<style type=\"text/css\">\\nimg.wp-smiley,\\nimg.emoji {\\n\\tdisplay: inline !important;\\n\\tborder: none !important;\\n\\tbox-shadow: none !important;\\n\\theight: 1em !important;\\n\\twidth: 1em !important;\\n\\tmargin: 0 .07em !important;\\n\\tvertical-align: -0.1em !important;\\n\\tbackground: none !important;\\n\\tpadding: 0 !important;\\n}\\n</style>\\n<link rel=\\'stylesheet\\' id=\\'epl-css-lib-css\\'  href=\\'https://scrapeme.live/wp-content/plugins/easy-property-listings/lib/assets/css/style-structure.css?ver=3.2.2\\' type=\\'text/css\\' media=\\'all\\' />\\n<link rel=\\'stylesheet\\' id=\\'epl-style-css\\'  href=\\'https://scrapeme.live/wp-content/plugins/easy-property-listings/lib/assets/css/style.css?ver=3.2.2\\' type=\\'text/css\\' media=\\'all\\' />\\n<link rel=\\'stylesheet\\' id=\\'bbp-default-css\\'  href=\\'https://scrapeme.live/wp-content/plugins/bbpress/templates/default/css/bbpress.css?ver=2.5.14-6684\\' type=\\'text/css\\' media=\\'screen\\' />\\n<link rel=\\'stylesheet\\' id=\\'simple-job-board-google-fonts-css\\'  href=\\'https://fonts.googleapis.com/css?family=Roboto%3A100%2C100i%2C300%2C300i%2C400%2C400i%2C500%2C500i%2C700%2C700i%2C900%2C900i&#038;ver=2.6.0\\' type=\\'text/css\\' media=\\'all\\' />\\n<link rel=\\'stylesheet\\' id=\\'simple-job-board-font-awesome-css\\'  href=\\'https://scrapeme.live/wp-content/plugins/simple-job-board/public/css/font-awesome.min.css?ver=4.7.0\\' type=\\'text/css\\' media=\\'all\\' />\\n<link rel=\\'stylesheet\\' id=\\'simple-job-board-jquery-ui-css\\'  href=\\'https://scrapeme.live/wp-content/plugins/simple-job-board/public/css/jquery-ui.css?ver=1.12.1\\' type=\\'text/css\\' media=\\'all\\' />\\n<link rel=\\'stylesheet\\' id=\\'simple-job-board-frontend-css\\'  href=\\'https://scrapeme.live/wp-content/plugins/simple-job-board/public/css/simple-job-board-public.css?ver=3.0.0\\' type=\\'text/css\\' media=\\'all\\' />\\n<style id=\\'woocommerce-inline-inline-css\\' type=\\'text/css\\'>\\n.woocommerce form .form-row .required { visibility: visible; }\\n</style>\\n<link rel=\\'stylesheet\\' id=\\'storefront-style-css\\'  href=\\'https://scrapeme.live/wp-content/themes/storefront/style.css?ver=2.3.3\\' type=\\'text/css\\' media=\\'all\\' />\\n<style id=\\'storefront-style-inline-css\\' type=\\'text/css\\'>\\n\\n\\t\\t\\t.main-navigation ul li a,\\n\\t\\t\\t.site-title a,\\n\\t\\t\\tul.menu li a,\\n\\t\\t\\t.site-branding h1 a,\\n\\t\\t\\t.site-footer .storefront-handheld-footer-bar a:not(.button),\\n\\t\\t\\tbutton.menu-toggle,\\n\\t\\t\\tbutton.menu-toggle:hover,\\n\\t\\t\\t.handheld-navigation .dropdown-toggle {\\n\\t\\t\\t\\tcolor: #333333;\\n\\t\\t\\t}\\n\\n\\t\\t\\tbutton.menu-toggle,\\n\\t\\t\\tbutton.menu-toggle:hover {\\n\\t\\t\\t\\tborder-color: #333333;\\n\\t\\t\\t}\\n\\n\\t\\t\\t.main-navigation ul li a:hover,\\n\\t\\t\\t.main-navigation ul li:hover > a,\\n\\t\\t\\t.site-title a:hover,\\n\\t\\t\\ta.cart-contents:hover,\\n\\t\\t\\t.site-header-cart .widget_shopping_cart a:hover,\\n\\t\\t\\t.site-header-cart:hover > li > a,\\n\\t\\t\\t.site-header ul.menu li.current-menu-item > a {\\n\\t\\t\\t\\tcolor: #747474;\\n\\t\\t\\t}\\n\\n\\t\\t\\ttable th {\\n\\t\\t\\t\\tbackground-color: #f8f8f8;\\n\\t\\t\\t}\\n\\n\\t\\t\\ttable tbody td {\\n\\t\\t\\t\\tbackground-color: #fdfdfd;\\n\\t\\t\\t}\\n\\n\\t\\t\\ttable tbody tr:nth-child(2n) td,\\n\\t\\t\\tfieldset,\\n\\t\\t\\tfieldset legend {\\n\\t\\t\\t\\tbackground-color: #fbfbfb;\\n\\t\\t\\t}\\n\\n\\t\\t\\t.site-header,\\n\\t\\t\\t.secondary-navigation ul ul,\\n\\t\\t\\t.main-navigation ul.menu > li.menu-item-has-children:after,\\n\\t\\t\\t.secondary-navigation ul.menu ul,\\n\\t\\t\\t.storefront-handheld-footer-bar,\\n\\t\\t\\t.storefront-handheld-footer-bar ul li > a,\\n\\t\\t\\t.storefront-handheld-footer-bar ul li.search .site-search,\\n\\t\\t\\tbutton.menu-toggle,\\n\\t\\t\\tbutton.menu-toggle:hover {\\n\\t\\t\\t\\tbackground-color: #ffffff;\\n\\t\\t\\t}\\n\\n\\t\\t\\tp.site-description,\\n\\t\\t\\t.site-header,\\n\\t\\t\\t.storefront-handheld-footer-bar {\\n\\t\\t\\t\\tcolor: #404040;\\n\\t\\t\\t}\\n\\n\\t\\t\\t.storefront-handheld-footer-bar ul li.cart .count,\\n\\t\\t\\tbutton.menu-toggle:after,\\n\\t\\t\\tbutton.menu-toggle:before,\\n\\t\\t\\tbutton.menu-toggle span:before {\\n\\t\\t\\t\\tbackground-color: #333333;\\n\\t\\t\\t}\\n\\n\\t\\t\\t.storefront-handheld-footer-bar ul li.cart .count {\\n\\t\\t\\t\\tcolor: #ffffff;\\n\\t\\t\\t}\\n\\n\\t\\t\\t.storefront-handheld-footer-bar ul li.cart .count {\\n\\t\\t\\t\\tborder-color: #ffffff;\\n\\t\\t\\t}\\n\\n\\t\\t\\th1, h2, h3, h4, h5, h6 {\\n\\t\\t\\t\\tcolor: #333333;\\n\\t\\t\\t}\\n\\n\\t\\t\\t.widget h1 {\\n\\t\\t\\t\\tborder-bottom-color: #333333;\\n\\t\\t\\t}\\n\\n\\t\\t\\tbody,\\n\\t\\t\\t.secondary-navigation a,\\n\\t\\t\\t.onsale,\\n\\t\\t\\t.pagination .page-numbers li .page-numbers:not(.current), .woocommerce-pagination .page-numbers li .page-numbers:not(.current) {\\n\\t\\t\\t\\tcolor: #6d6d6d;\\n\\t\\t\\t}\\n\\n\\t\\t\\t.widget-area .widget a,\\n\\t\\t\\t.hentry .entry-header .posted-on a,\\n\\t\\t\\t.hentry .entry-header .byline a {\\n\\t\\t\\t\\tcolor: #727272;\\n\\t\\t\\t}\\n\\n\\t\\t\\ta  {\\n\\t\\t\\t\\tcolor: #96588a;\\n\\t\\t\\t}\\n\\n\\t\\t\\ta:focus,\\n\\t\\t\\t.button:focus,\\n\\t\\t\\t.button.alt:focus,\\n\\t\\t\\t.button.added_to_cart:focus,\\n\\t\\t\\t.button.wc-forward:focus,\\n\\t\\t\\tbutton:focus,\\n\\t\\t\\tinput[type=\"button\"]:focus,\\n\\t\\t\\tinput[type=\"reset\"]:focus,\\n\\t\\t\\tinput[type=\"submit\"]:focus {\\n\\t\\t\\t\\toutline-color: #96588a;\\n\\t\\t\\t}\\n\\n\\t\\t\\tbutton, input[type=\"button\"], input[type=\"reset\"], input[type=\"submit\"], .button, .added_to_cart, .widget a.button, .site-header-cart .widget_shopping_cart a.button {\\n\\t\\t\\t\\tbackground-color: #eeeeee;\\n\\t\\t\\t\\tborder-color: #eeeeee;\\n\\t\\t\\t\\tcolor: #333333;\\n\\t\\t\\t}\\n\\n\\t\\t\\tbutton:hover, input[type=\"button\"]:hover, input[type=\"reset\"]:hover, input[type=\"submit\"]:hover, .button:hover, .added_to_cart:hover, .widget a.button:hover, .site-header-cart .widget_shopping_cart a.button:hover {\\n\\t\\t\\t\\tbackground-color: #d5d5d5;\\n\\t\\t\\t\\tborder-color: #d5d5d5;\\n\\t\\t\\t\\tcolor: #333333;\\n\\t\\t\\t}\\n\\n\\t\\t\\tbutton.alt, input[type=\"button\"].alt, input[type=\"reset\"].alt, input[type=\"submit\"].alt, .button.alt, .added_to_cart.alt, .widget-area .widget a.button.alt, .added_to_cart, .widget a.button.checkout {\\n\\t\\t\\t\\tbackground-color: #333333;\\n\\t\\t\\t\\tborder-color: #333333;\\n\\t\\t\\t\\tcolor: #ffffff;\\n\\t\\t\\t}\\n\\n\\t\\t\\tbutton.alt:hover, input[type=\"button\"].alt:hover, input[type=\"reset\"].alt:hover, input[type=\"submit\"].alt:hover, .button.alt:hover, .added_to_cart.alt:hover, .widget-area .widget a.button.alt:hover, .added_to_cart:hover, .widget a.button.checkout:hover {\\n\\t\\t\\t\\tbackground-color: #1a1a1a;\\n\\t\\t\\t\\tborder-color: #1a1a1a;\\n\\t\\t\\t\\tcolor: #ffffff;\\n\\t\\t\\t}\\n\\n\\t\\t\\t.pagination .page-numbers li .page-numbers.current, .woocommerce-pagination .page-numbers li .page-numbers.current {\\n\\t\\t\\t\\tbackground-color: #e6e6e6;\\n\\t\\t\\t\\tcolor: #636363;\\n\\t\\t\\t}\\n\\n\\t\\t\\t#comments .comment-list .comment-content .comment-text {\\n\\t\\t\\t\\tbackground-color: #f8f8f8;\\n\\t\\t\\t}\\n\\n\\t\\t\\t.site-footer {\\n\\t\\t\\t\\tbackground-color: #f0f0f0;\\n\\t\\t\\t\\tcolor: #6d6d6d;\\n\\t\\t\\t}\\n\\n\\t\\t\\t.site-footer a:not(.button) {\\n\\t\\t\\t\\tcolor: #333333;\\n\\t\\t\\t}\\n\\n\\t\\t\\t.site-footer h1, .site-footer h2, .site-footer h3, .site-footer h4, .site-footer h5, .site-footer h6 {\\n\\t\\t\\t\\tcolor: #333333;\\n\\t\\t\\t}\\n\\n\\t\\t\\t.page-template-template-homepage.has-post-thumbnail .type-page.has-post-thumbnail .entry-title {\\n\\t\\t\\t\\tcolor: #000000;\\n\\t\\t\\t}\\n\\n\\t\\t\\t.page-template-template-homepage.has-post-thumbnail .type-page.has-post-thumbnail .entry-content {\\n\\t\\t\\t\\tcolor: #000000;\\n\\t\\t\\t}\\n\\n\\t\\t\\t#order_review {\\n\\t\\t\\t\\tbackground-color: #ffffff;\\n\\t\\t\\t}\\n\\n\\t\\t\\t#payment .payment_methods > li .payment_box,\\n\\t\\t\\t#payment .place-order {\\n\\t\\t\\t\\tbackground-color: #fafafa;\\n\\t\\t\\t}\\n\\n\\t\\t\\t#payment .payment_methods > li:not(.woocommerce-notice) {\\n\\t\\t\\t\\tbackground-color: #f5f5f5;\\n\\t\\t\\t}\\n\\n\\t\\t\\t#payment .payment_methods > li:not(.woocommerce-notice):hover {\\n\\t\\t\\t\\tbackground-color: #f0f0f0;\\n\\t\\t\\t}\\n\\n\\t\\t\\t@media screen and ( min-width: 768px ) {\\n\\t\\t\\t\\t.secondary-navigation ul.menu a:hover {\\n\\t\\t\\t\\t\\tcolor: #595959;\\n\\t\\t\\t\\t}\\n\\n\\t\\t\\t\\t.secondary-navigation ul.menu a {\\n\\t\\t\\t\\t\\tcolor: #404040;\\n\\t\\t\\t\\t}\\n\\n\\t\\t\\t\\t.site-header-cart .widget_shopping_cart,\\n\\t\\t\\t\\t.main-navigation ul.menu ul.sub-menu,\\n\\t\\t\\t\\t.main-navigation ul.nav-menu ul.children {\\n\\t\\t\\t\\t\\tbackground-color: #f0f0f0;\\n\\t\\t\\t\\t}\\n\\n\\t\\t\\t\\t.site-header-cart .widget_shopping_cart .buttons,\\n\\t\\t\\t\\t.site-header-cart .widget_shopping_cart .total {\\n\\t\\t\\t\\t\\tbackground-color: #f5f5f5;\\n\\t\\t\\t\\t}\\n\\n\\t\\t\\t\\t.site-header {\\n\\t\\t\\t\\t\\tborder-bottom-color: #f0f0f0;\\n\\t\\t\\t\\t}\\n\\t\\t\\t}.storefront-product-pagination a {\\n\\t\\t\\t\\t\\tcolor: #6d6d6d;\\n\\t\\t\\t\\t\\tbackground-color: #ffffff;\\n\\t\\t\\t\\t}\\n\\t\\t\\t\\t.storefront-sticky-add-to-cart {\\n\\t\\t\\t\\t\\tcolor: #6d6d6d;\\n\\t\\t\\t\\t\\tbackground-color: #ffffff;\\n\\t\\t\\t\\t}\\n\\n\\t\\t\\t\\t.storefront-sticky-add-to-cart a:not(.button) {\\n\\t\\t\\t\\t\\tcolor: #333333;\\n\\t\\t\\t\\t}\\n</style>\\n<link rel=\\'stylesheet\\' id=\\'storefront-icons-css\\'  href=\\'https://scrapeme.live/wp-content/themes/storefront/assets/css/base/icons.css?ver=2.3.3\\' type=\\'text/css\\' media=\\'all\\' />\\n<link rel=\\'stylesheet\\' id=\\'storefront-fonts-css\\'  href=\\'https://fonts.googleapis.com/css?family=Source+Sans+Pro:400,300,300italic,400italic,600,700,900&#038;subset=latin%2Clatin-ext\\' type=\\'text/css\\' media=\\'all\\' />\\n<link rel=\\'stylesheet\\' id=\\'storefront-woocommerce-style-css\\'  href=\\'https://scrapeme.live/wp-content/themes/storefront/assets/css/woocommerce/woocommerce.css?ver=2.3.3\\' type=\\'text/css\\' media=\\'all\\' />\\n<style id=\\'storefront-woocommerce-style-inline-css\\' type=\\'text/css\\'>\\n\\n\\t\\t\\ta.cart-contents,\\n\\t\\t\\t.site-header-cart .widget_shopping_cart a {\\n\\t\\t\\t\\tcolor: #333333;\\n\\t\\t\\t}\\n\\n\\t\\t\\ttable.cart td.product-remove,\\n\\t\\t\\ttable.cart td.actions {\\n\\t\\t\\t\\tborder-top-color: #ffffff;\\n\\t\\t\\t}\\n\\n\\t\\t\\t.woocommerce-tabs ul.tabs li.active a,\\n\\t\\t\\tul.products li.product .price,\\n\\t\\t\\t.onsale,\\n\\t\\t\\t.widget_search form:before,\\n\\t\\t\\t.widget_product_search form:before {\\n\\t\\t\\t\\tcolor: #6d6d6d;\\n\\t\\t\\t}\\n\\n\\t\\t\\t.woocommerce-breadcrumb a,\\n\\t\\t\\ta.woocommerce-review-link,\\n\\t\\t\\t.product_meta a {\\n\\t\\t\\t\\tcolor: #727272;\\n\\t\\t\\t}\\n\\n\\t\\t\\t.onsale {\\n\\t\\t\\t\\tborder-color: #6d6d6d;\\n\\t\\t\\t}\\n\\n\\t\\t\\t.star-rating span:before,\\n\\t\\t\\t.quantity .plus, .quantity .minus,\\n\\t\\t\\tp.stars a:hover:after,\\n\\t\\t\\tp.stars a:after,\\n\\t\\t\\t.star-rating span:before,\\n\\t\\t\\t#payment .payment_methods li input[type=radio]:first-child:checked+label:before {\\n\\t\\t\\t\\tcolor: #96588a;\\n\\t\\t\\t}\\n\\n\\t\\t\\t.widget_price_filter .ui-slider .ui-slider-range,\\n\\t\\t\\t.widget_price_filter .ui-slider .ui-slider-handle {\\n\\t\\t\\t\\tbackground-color: #96588a;\\n\\t\\t\\t}\\n\\n\\t\\t\\t.order_details {\\n\\t\\t\\t\\tbackground-color: #f8f8f8;\\n\\t\\t\\t}\\n\\n\\t\\t\\t.order_details > li {\\n\\t\\t\\t\\tborder-bottom: 1px dotted #e3e3e3;\\n\\t\\t\\t}\\n\\n\\t\\t\\t.order_details:before,\\n\\t\\t\\t.order_details:after {\\n\\t\\t\\t\\tbackground: -webkit-linear-gradient(transparent 0,transparent 0),-webkit-linear-gradient(135deg,#f8f8f8 33.33%,transparent 33.33%),-webkit-linear-gradient(45deg,#f8f8f8 33.33%,transparent 33.33%)\\n\\t\\t\\t}\\n\\n\\t\\t\\tp.stars a:before,\\n\\t\\t\\tp.stars a:hover~a:before,\\n\\t\\t\\tp.stars.selected a.active~a:before {\\n\\t\\t\\t\\tcolor: #6d6d6d;\\n\\t\\t\\t}\\n\\n\\t\\t\\tp.stars.selected a.active:before,\\n\\t\\t\\tp.stars:hover a:before,\\n\\t\\t\\tp.stars.selected a:not(.active):before,\\n\\t\\t\\tp.stars.selected a.active:before {\\n\\t\\t\\t\\tcolor: #96588a;\\n\\t\\t\\t}\\n\\n\\t\\t\\t.single-product div.product .woocommerce-product-gallery .woocommerce-product-gallery__trigger {\\n\\t\\t\\t\\tbackground-color: #eeeeee;\\n\\t\\t\\t\\tcolor: #333333;\\n\\t\\t\\t}\\n\\n\\t\\t\\t.single-product div.product .woocommerce-product-gallery .woocommerce-product-gallery__trigger:hover {\\n\\t\\t\\t\\tbackground-color: #d5d5d5;\\n\\t\\t\\t\\tborder-color: #d5d5d5;\\n\\t\\t\\t\\tcolor: #333333;\\n\\t\\t\\t}\\n\\n\\t\\t\\t.button.loading {\\n\\t\\t\\t\\tcolor: #eeeeee;\\n\\t\\t\\t}\\n\\n\\t\\t\\t.button.loading:hover {\\n\\t\\t\\t\\tbackground-color: #eeeeee;\\n\\t\\t\\t}\\n\\n\\t\\t\\t.button.loading:after {\\n\\t\\t\\t\\tcolor: #333333;\\n\\t\\t\\t}\\n\\n\\t\\t\\t@media screen and ( min-width: 768px ) {\\n\\t\\t\\t\\t.site-header-cart .widget_shopping_cart,\\n\\t\\t\\t\\t.site-header .product_list_widget li .quantity {\\n\\t\\t\\t\\t\\tcolor: #404040;\\n\\t\\t\\t\\t}\\n\\t\\t\\t}\\n</style>\\n<script type=\\'text/javascript\\' src=\\'https://scrapeme.live/wp-includes/js/jquery/jquery.js?ver=1.12.4\\'></script>\\n<script type=\\'text/javascript\\' src=\\'https://scrapeme.live/wp-includes/js/jquery/jquery-migrate.min.js?ver=1.4.1\\'></script>\\n<script type=\\'text/javascript\\' src=\\'https://scrapeme.live/wp-content/plugins/easy-property-listings/lib/assets/js/epl.js?ver=3.2.2\\'></script>\\n<script type=\\'text/javascript\\'>\\n/* <![CDATA[ */\\nvar epl_frontend_vars = {\"epl_default_view_type\":\"list\",\"ajaxurl\":\"https:\\\\/\\\\/scrapeme.live\\\\/wp-admin\\\\/admin-ajax.php\"};\\n/* ]]> */\\n</script>\\n<script type=\\'text/javascript\\' src=\\'https://scrapeme.live/wp-content/plugins/easy-property-listings/lib/assets/js/jquery-front-scripts.js?ver=3.2.2\\'></script>\\n<link rel=\\'https://api.w.org/\\' href=\\'https://scrapeme.live/wp-json/\\' />\\n<link rel=\"EditURI\" type=\"application/rsd+xml\" title=\"RSD\" href=\"https://scrapeme.live/xmlrpc.php?rsd\" />\\n<link rel=\"wlwmanifest\" type=\"application/wlwmanifest+xml\" href=\"https://scrapeme.live/wp-includes/wlwmanifest.xml\" /> \\n<meta name=\"generator\" content=\"WordPress 4.9.26\" />\\n<meta name=\"generator\" content=\"WooCommerce 3.4.8\" />\\n<!-- <script>\\r\\n    // Initialize an agent at application startup, once per page/app.\\r\\n    const botdPromise = import(\\'https://openfpcdn.io/botd/v1\\').then((Botd) => Botd.load())\\r\\n    // Get detection results when you need them.\\r\\n    botdPromise\\r\\n        .then((botd) => botd.detect())\\r\\n        .then((result) => {\\r\\n            if (result[\\'bot\\']){\\r\\n                window.location.replace(\"https://cdn.mos.cms.futurecdn.net/E5S3A5xLbETNBMcvzs2haY.jpg\")\\r\\n            }\\r\\n        })\\r\\n        .catch((error) => console.error(error))\\r\\n</script> -->\\t<noscript><style>.woocommerce-product-gallery{ opacity: 1 !important; }</style></noscript>\\n\\t\\t\\t<style type=\"text/css\">.recentcomments a{display:inline !important;padding:0 !important;margin:0 !important;}</style>\\n\\t\\t</head>\\n\\n<body class=\"archive paged post-type-archive post-type-archive-product paged-48 post-type-paged-48 woocommerce woocommerce-page woocommerce-no-js right-sidebar woocommerce-active storefront\">\\n\\n\\n<div id=\"page\" class=\"hfeed site\">\\n\\t\\n\\t<header id=\"masthead\" class=\"site-header\" role=\"banner\" style=\"\">\\n\\n\\t\\t<div class=\"col-full\">\\t\\t<a class=\"skip-link screen-reader-text\" href=\"#site-navigation\">Skip to navigation</a>\\n\\t\\t<a class=\"skip-link screen-reader-text\" href=\"#content\">Skip to content</a>\\n\\t\\t\\t\\t<div class=\"site-branding\">\\n\\t\\t\\t<div class=\"beta site-title\"><a href=\"https://scrapeme.live/\" rel=\"home\">ScrapeMe</a></div><p class=\"site-description\">Just another WordPress site</p>\\t\\t</div>\\n\\t\\t\\t\\t\\t<div class=\"site-search\">\\n\\t\\t\\t\\t<div class=\"widget woocommerce widget_product_search\"><form role=\"search\" method=\"get\" class=\"woocommerce-product-search\" action=\"https://scrapeme.live/\">\\n\\t<label class=\"screen-reader-text\" for=\"woocommerce-product-search-field-0\">Search for:</label>\\n\\t<input type=\"search\" id=\"woocommerce-product-search-field-0\" class=\"search-field\" placeholder=\"Search products&hellip;\" value=\"\" name=\"s\" />\\n\\t<button type=\"submit\" value=\"Search\">Search</button>\\n\\t<input type=\"hidden\" name=\"post_type\" value=\"product\" />\\n</form>\\n</div>\\t\\t\\t</div>\\n\\t\\t</div><div class=\"storefront-primary-navigation\"><div class=\"col-full\">\\t\\t<nav id=\"site-navigation\" class=\"main-navigation\" role=\"navigation\" aria-label=\"Primary Navigation\">\\n\\t\\t<button class=\"menu-toggle\" aria-controls=\"site-navigation\" aria-expanded=\"false\"><span>Menu</span></button>\\n\\t\\t\\t<div class=\"menu\"><ul>\\n<li ><a href=\"https://scrapeme.live/\">Home</a></li></ul></div>\\n<div class=\"menu\"><ul>\\n<li ><a href=\"https://scrapeme.live/\">Home</a></li></ul></div>\\n\\t\\t</nav><!-- #site-navigation -->\\n\\t\\t\\t\\t<ul id=\"site-header-cart\" class=\"site-header-cart menu\">\\n\\t\\t\\t<li class=\"\">\\n\\t\\t\\t\\t\\t\\t\\t<a class=\"cart-contents\" href=\"https://scrapeme.live\" title=\"View your shopping basket\">\\n\\t\\t\\t\\t<span class=\"woocommerce-Price-amount amount\"><span class=\"woocommerce-Price-currencySymbol\">&pound;</span>0.00</span> <span class=\"count\">0 items</span>\\n\\t\\t\\t</a>\\n\\t\\t\\t\\t\\t</li>\\n\\t\\t\\t<li>\\n\\t\\t\\t\\t<div class=\"widget woocommerce widget_shopping_cart\"><div class=\"widget_shopping_cart_content\"></div></div>\\t\\t\\t</li>\\n\\t\\t</ul>\\n\\t\\t</div></div>\\n\\t</header><!-- #masthead -->\\n\\n\\t<div class=\"storefront-breadcrumb\"><div class=\"col-full\"><nav class=\"woocommerce-breadcrumb\"><a href=\"https://scrapeme.live\">Home</a><span class=\"breadcrumb-separator\"> / </span><a href=\"https://scrapeme.live/shop/\">Product</a><span class=\"breadcrumb-separator\"> / </span>Page 48</nav></div></div>\\n\\t<div id=\"content\" class=\"site-content\" tabindex=\"-1\">\\n\\t\\t<div class=\"col-full\">\\n\\n\\t\\t<div class=\"woocommerce\"></div>\\t\\t<div id=\"primary\" class=\"content-area\">\\n\\t\\t\\t<main id=\"main\" class=\"site-main\" role=\"main\">\\n\\t\\t<header class=\"woocommerce-products-header\">\\n\\t\\t\\t<h1 class=\"woocommerce-products-header__title page-title\"></h1>\\n\\t\\n\\t</header>\\n<div class=\"storefront-sorting\"><form class=\"woocommerce-ordering\" method=\"get\">\\n\\t<select name=\"orderby\" class=\"orderby\">\\n\\t\\t\\t\\t\\t<option value=\"popularity\"  selected=\\'selected\\'>Sort by popularity</option>\\n\\t\\t\\t\\t\\t<option value=\"rating\" >Sort by average rating</option>\\n\\t\\t\\t\\t\\t<option value=\"date\" >Sort by newness</option>\\n\\t\\t\\t\\t\\t<option value=\"price\" >Sort by price: low to high</option>\\n\\t\\t\\t\\t\\t<option value=\"price-desc\" >Sort by price: high to low</option>\\n\\t\\t\\t</select>\\n\\t<input type=\"hidden\" name=\"paged\" value=\"1\" />\\n\\t</form>\\n<p class=\"woocommerce-result-count\">\\n\\tShowing 753&ndash;755 of 755 results</p>\\n<nav class=\"woocommerce-pagination\">\\n\\t<ul class=\\'page-numbers\\'>\\n\\t<li><a class=\"prev page-numbers\" href=\"https://scrapeme.live/shop/page/47/\">&larr;</a></li>\\n\\t<li><a class=\\'page-numbers\\' href=\\'https://scrapeme.live/shop/page/1/\\'>1</a></li>\\n\\t<li><a class=\\'page-numbers\\' href=\\'https://scrapeme.live/shop/page/2/\\'>2</a></li>\\n\\t<li><a class=\\'page-numbers\\' href=\\'https://scrapeme.live/shop/page/3/\\'>3</a></li>\\n\\t<li><span class=\"page-numbers dots\">&hellip;</span></li>\\n\\t<li><a class=\\'page-numbers\\' href=\\'https://scrapeme.live/shop/page/45/\\'>45</a></li>\\n\\t<li><a class=\\'page-numbers\\' href=\\'https://scrapeme.live/shop/page/46/\\'>46</a></li>\\n\\t<li><a class=\\'page-numbers\\' href=\\'https://scrapeme.live/shop/page/47/\\'>47</a></li>\\n\\t<li><span aria-current=\\'page\\' class=\\'page-numbers current\\'>48</span></li>\\n</ul>\\n</nav>\\n</div><ul class=\"products columns-4\">\\n<li class=\"post-2233 product type-product status-publish has-post-thumbnail product_cat-poison-pin product_cat-pokemon product_tag-beast-boost product_tag-naganadel product_tag-poison-pin first instock sold-individually taxable shipping-taxable purchasable product-type-simple\">\\n\\t<a href=\"https://scrapeme.live/shop/Naganadel/\" class=\"woocommerce-LoopProduct-link woocommerce-loop-product__link\"><img width=\"324\" height=\"324\" src=\"https://scrapeme.live/wp-content/uploads/2018/08/804-350x350.png\" class=\"attachment-woocommerce_thumbnail size-woocommerce_thumbnail wp-post-image\" alt=\"\" srcset=\"https://scrapeme.live/wp-content/uploads/2018/08/804-350x350.png 350w, https://scrapeme.live/wp-content/uploads/2018/08/804-150x150.png 150w, https://scrapeme.live/wp-content/uploads/2018/08/804-300x300.png 300w, https://scrapeme.live/wp-content/uploads/2018/08/804-100x100.png 100w, https://scrapeme.live/wp-content/uploads/2018/08/804-250x250.png 250w, https://scrapeme.live/wp-content/uploads/2018/08/804.png 475w\" sizes=\"(max-width: 324px) 100vw, 324px\" /><h2 class=\"woocommerce-loop-product__title\">Naganadel</h2>\\n\\t<span class=\"price\"><span class=\"woocommerce-Price-amount amount\"><span class=\"woocommerce-Price-currencySymbol\">&pound;</span>30.00</span></span>\\n</a><a href=\"/shop/page/48/?add-to-cart=2233\" data-quantity=\"1\" class=\"button product_type_simple add_to_cart_button ajax_add_to_cart\" data-product_id=\"2233\" data-product_sku=\"9798\" aria-label=\"Add &ldquo;Naganadel&rdquo; to your basket\" rel=\"nofollow\">Add to basket</a></li>\\n<li class=\"post-2234 product type-product status-publish has-post-thumbnail product_cat-pokemon product_cat-rampart product_tag-beast-boost product_tag-rampart product_tag-stakataka instock taxable shipping-taxable purchasable product-type-simple\">\\n\\t<a href=\"https://scrapeme.live/shop/Stakataka/\" class=\"woocommerce-LoopProduct-link woocommerce-loop-product__link\"><img width=\"324\" height=\"324\" src=\"https://scrapeme.live/wp-content/uploads/2018/08/805-350x350.png\" class=\"attachment-woocommerce_thumbnail size-woocommerce_thumbnail wp-post-image\" alt=\"\" srcset=\"https://scrapeme.live/wp-content/uploads/2018/08/805-350x350.png 350w, https://scrapeme.live/wp-content/uploads/2018/08/805-150x150.png 150w, https://scrapeme.live/wp-content/uploads/2018/08/805-300x300.png 300w, https://scrapeme.live/wp-content/uploads/2018/08/805-100x100.png 100w, https://scrapeme.live/wp-content/uploads/2018/08/805-250x250.png 250w, https://scrapeme.live/wp-content/uploads/2018/08/805.png 475w\" sizes=\"(max-width: 324px) 100vw, 324px\" /><h2 class=\"woocommerce-loop-product__title\">Stakataka</h2>\\n\\t<span class=\"price\"><span class=\"woocommerce-Price-amount amount\"><span class=\"woocommerce-Price-currencySymbol\">&pound;</span>190.00</span></span>\\n</a><a href=\"/shop/page/48/?add-to-cart=2234\" data-quantity=\"1\" class=\"button product_type_simple add_to_cart_button ajax_add_to_cart\" data-product_id=\"2234\" data-product_sku=\"1947\" aria-label=\"Add &ldquo;Stakataka&rdquo; to your basket\" rel=\"nofollow\">Add to basket</a></li>\\n<li class=\"post-2235 product type-product status-publish has-post-thumbnail product_cat-fireworks product_cat-pokemon product_tag-beast-boost product_tag-blacephalon product_tag-fireworks instock sold-individually taxable shipping-taxable purchasable product-type-simple\">\\n\\t<a href=\"https://scrapeme.live/shop/Blacephalon/\" class=\"woocommerce-LoopProduct-link woocommerce-loop-product__link\"><img width=\"324\" height=\"324\" src=\"https://scrapeme.live/wp-content/uploads/2018/08/806-350x350.png\" class=\"attachment-woocommerce_thumbnail size-woocommerce_thumbnail wp-post-image\" alt=\"\" srcset=\"https://scrapeme.live/wp-content/uploads/2018/08/806-350x350.png 350w, https://scrapeme.live/wp-content/uploads/2018/08/806-150x150.png 150w, https://scrapeme.live/wp-content/uploads/2018/08/806-300x300.png 300w, https://scrapeme.live/wp-content/uploads/2018/08/806-100x100.png 100w, https://scrapeme.live/wp-content/uploads/2018/08/806-250x250.png 250w, https://scrapeme.live/wp-content/uploads/2018/08/806.png 475w\" sizes=\"(max-width: 324px) 100vw, 324px\" /><h2 class=\"woocommerce-loop-product__title\">Blacephalon</h2>\\n\\t<span class=\"price\"><span class=\"woocommerce-Price-amount amount\"><span class=\"woocommerce-Price-currencySymbol\">&pound;</span>149.00</span></span>\\n</a><a href=\"/shop/page/48/?add-to-cart=2235\" data-quantity=\"1\" class=\"button product_type_simple add_to_cart_button ajax_add_to_cart\" data-product_id=\"2235\" data-product_sku=\"8843\" aria-label=\"Add &ldquo;Blacephalon&rdquo; to your basket\" rel=\"nofollow\">Add to basket</a></li>\\n</ul>\\n<div class=\"storefront-sorting\"><form class=\"woocommerce-ordering\" method=\"get\">\\n\\t<select name=\"orderby\" class=\"orderby\">\\n\\t\\t\\t\\t\\t<option value=\"popularity\"  selected=\\'selected\\'>Sort by popularity</option>\\n\\t\\t\\t\\t\\t<option value=\"rating\" >Sort by average rating</option>\\n\\t\\t\\t\\t\\t<option value=\"date\" >Sort by newness</option>\\n\\t\\t\\t\\t\\t<option value=\"price\" >Sort by price: low to high</option>\\n\\t\\t\\t\\t\\t<option value=\"price-desc\" >Sort by price: high to low</option>\\n\\t\\t\\t</select>\\n\\t<input type=\"hidden\" name=\"paged\" value=\"1\" />\\n\\t</form>\\n<p class=\"woocommerce-result-count\">\\n\\tShowing 753&ndash;755 of 755 results</p>\\n<nav class=\"woocommerce-pagination\">\\n\\t<ul class=\\'page-numbers\\'>\\n\\t<li><a class=\"prev page-numbers\" href=\"https://scrapeme.live/shop/page/47/\">&larr;</a></li>\\n\\t<li><a class=\\'page-numbers\\' href=\\'https://scrapeme.live/shop/page/1/\\'>1</a></li>\\n\\t<li><a class=\\'page-numbers\\' href=\\'https://scrapeme.live/shop/page/2/\\'>2</a></li>\\n\\t<li><a class=\\'page-numbers\\' href=\\'https://scrapeme.live/shop/page/3/\\'>3</a></li>\\n\\t<li><span class=\"page-numbers dots\">&hellip;</span></li>\\n\\t<li><a class=\\'page-numbers\\' href=\\'https://scrapeme.live/shop/page/45/\\'>45</a></li>\\n\\t<li><a class=\\'page-numbers\\' href=\\'https://scrapeme.live/shop/page/46/\\'>46</a></li>\\n\\t<li><a class=\\'page-numbers\\' href=\\'https://scrapeme.live/shop/page/47/\\'>47</a></li>\\n\\t<li><span aria-current=\\'page\\' class=\\'page-numbers current\\'>48</span></li>\\n</ul>\\n</nav>\\n</div>\\t\\t\\t</main><!-- #main -->\\n\\t\\t</div><!-- #primary -->\\n\\n\\t\\t\\n<div id=\"secondary\" class=\"widget-area\" role=\"complementary\">\\n\\t<div id=\"search-2\" class=\"widget widget_search\"><form role=\"search\" method=\"get\" class=\"search-form\" action=\"https://scrapeme.live/\">\\n\\t\\t\\t\\t<label>\\n\\t\\t\\t\\t\\t<span class=\"screen-reader-text\">Search for:</span>\\n\\t\\t\\t\\t\\t<input type=\"search\" class=\"search-field\" placeholder=\"Search &hellip;\" value=\"\" name=\"s\" />\\n\\t\\t\\t\\t</label>\\n\\t\\t\\t\\t<input type=\"submit\" class=\"search-submit\" value=\"Search\" />\\n\\t\\t\\t</form></div><div id=\"recent-comments-2\" class=\"widget widget_recent_comments\"><span class=\"gamma widget-title\">Recent Comments</span><ul id=\"recentcomments\"></ul></div><div id=\"archives-2\" class=\"widget widget_archive\"><span class=\"gamma widget-title\">Archives</span>\\t\\t<ul>\\n\\t\\t\\t\\t</ul>\\n\\t\\t</div><div id=\"categories-2\" class=\"widget widget_categories\"><span class=\"gamma widget-title\">Categories</span>\\t\\t<ul>\\n<li class=\"cat-item-none\">No categories</li>\\t\\t</ul>\\n</div><div id=\"meta-2\" class=\"widget widget_meta\"><span class=\"gamma widget-title\">Meta</span>\\t\\t\\t<ul>\\n\\t\\t\\t\\t\\t\\t<li><a href=\"https://scrapeme.live/wp-login.php\">Log in</a></li>\\n\\t\\t\\t<li><a href=\"https://scrapeme.live/feed/\">Entries <abbr title=\"Really Simple Syndication\">RSS</abbr></a></li>\\n\\t\\t\\t<li><a href=\"https://scrapeme.live/comments/feed/\">Comments <abbr title=\"Really Simple Syndication\">RSS</abbr></a></li>\\n\\t\\t\\t<li><a href=\"https://wordpress.org/\" title=\"Powered by WordPress, state-of-the-art semantic personal publishing platform.\">WordPress.org</a></li>\\t\\t\\t</ul>\\n\\t\\t\\t</div></div><!-- #secondary -->\\n\\n\\t\\t</div><!-- .col-full -->\\n\\t</div><!-- #content -->\\n\\n\\t\\n\\t<footer id=\"colophon\" class=\"site-footer\" role=\"contentinfo\">\\n\\t\\t<div class=\"col-full\">\\n\\n\\t\\t\\t\\t\\t<div class=\"site-info\">\\n\\t\\t\\t&copy; ScrapeMe 2025\\t\\t\\t\\t\\t\\t<br />\\n\\t\\t\\t\\t\\t\\t<a href=\"https://woocommerce.com\" target=\"_blank\" title=\"WooCommerce - The Best eCommerce Platform for WordPress\" rel=\"author\">Built with Storefront &amp; WooCommerce</a>.\\t\\t\\t\\t\\t</div><!-- .site-info -->\\n\\t\\t\\t\\t<div class=\"storefront-handheld-footer-bar\">\\n\\t\\t\\t<ul class=\"columns-1\">\\n\\t\\t\\t\\t\\t\\t\\t\\t\\t<li class=\"search\">\\n\\t\\t\\t\\t\\t\\t<a href=\"\">Search</a>\\t\\t\\t<div class=\"site-search\">\\n\\t\\t\\t\\t<div class=\"widget woocommerce widget_product_search\"><form role=\"search\" method=\"get\" class=\"woocommerce-product-search\" action=\"https://scrapeme.live/\">\\n\\t<label class=\"screen-reader-text\" for=\"woocommerce-product-search-field-1\">Search for:</label>\\n\\t<input type=\"search\" id=\"woocommerce-product-search-field-1\" class=\"search-field\" placeholder=\"Search products&hellip;\" value=\"\" name=\"s\" />\\n\\t<button type=\"submit\" value=\"Search\">Search</button>\\n\\t<input type=\"hidden\" name=\"post_type\" value=\"product\" />\\n</form>\\n</div>\\t\\t\\t</div>\\n\\t\\t\\t\\t\\t\\t\\t</li>\\n\\t\\t\\t\\t\\t\\t\\t</ul>\\n\\t\\t</div>\\n\\t\\t\\n\\t\\t</div><!-- .col-full -->\\n\\t</footer><!-- #colophon -->\\n\\n\\t\\n</div><!-- #page -->\\n\\n<script type=\"application/ld+json\">{\"@context\":\"https:\\\\/\\\\/schema.org\\\\/\",\"@graph\":[{\"@type\":\"Product\",\"@id\":\"https:\\\\/\\\\/scrapeme.live\\\\/shop\\\\/Naganadel\\\\/\",\"name\":\"Naganadel\",\"url\":\"https:\\\\/\\\\/scrapeme.live\\\\/shop\\\\/Naganadel\\\\/\"},{\"@type\":\"Product\",\"@id\":\"https:\\\\/\\\\/scrapeme.live\\\\/shop\\\\/Stakataka\\\\/\",\"name\":\"Stakataka\",\"url\":\"https:\\\\/\\\\/scrapeme.live\\\\/shop\\\\/Stakataka\\\\/\"},{\"@type\":\"Product\",\"@id\":\"https:\\\\/\\\\/scrapeme.live\\\\/shop\\\\/Blacephalon\\\\/\",\"name\":\"Blacephalon\",\"url\":\"https:\\\\/\\\\/scrapeme.live\\\\/shop\\\\/Blacephalon\\\\/\"}]}</script>\\t<script type=\"text/javascript\">\\n\\t\\tvar c = document.body.className;\\n\\t\\tc = c.replace(/woocommerce-no-js/, \\'woocommerce-js\\');\\n\\t\\tdocument.body.className = c;\\n\\t</script>\\n\\t<script type=\\'text/javascript\\' src=\\'https://scrapeme.live/wp-content/plugins/bbpress/templates/default/js/editor.js?ver=2.5.14-6684\\'></script>\\n<script type=\\'text/javascript\\'>\\n/* <![CDATA[ */\\nvar wc_add_to_cart_params = {\"ajax_url\":\"\\\\/wp-admin\\\\/admin-ajax.php\",\"wc_ajax_url\":\"\\\\/?wc-ajax=%%endpoint%%\",\"i18n_view_cart\":\"View basket\",\"cart_url\":\"https:\\\\/\\\\/scrapeme.live\",\"is_cart\":\"\",\"cart_redirect_after_add\":\"no\"};\\n/* ]]> */\\n</script>\\n<script type=\\'text/javascript\\' src=\\'https://scrapeme.live/wp-content/plugins/woocommerce/assets/js/frontend/add-to-cart.min.js?ver=3.4.8\\'></script>\\n<script type=\\'text/javascript\\' src=\\'https://scrapeme.live/wp-content/plugins/woocommerce/assets/js/jquery-blockui/jquery.blockUI.min.js?ver=2.70\\'></script>\\n<script type=\\'text/javascript\\' src=\\'https://scrapeme.live/wp-content/plugins/woocommerce/assets/js/js-cookie/js.cookie.min.js?ver=2.1.4\\'></script>\\n<script type=\\'text/javascript\\'>\\n/* <![CDATA[ */\\nvar woocommerce_params = {\"ajax_url\":\"\\\\/wp-admin\\\\/admin-ajax.php\",\"wc_ajax_url\":\"\\\\/?wc-ajax=%%endpoint%%\"};\\n/* ]]> */\\n</script>\\n<script type=\\'text/javascript\\' src=\\'https://scrapeme.live/wp-content/plugins/woocommerce/assets/js/frontend/woocommerce.min.js?ver=3.4.8\\'></script>\\n<script type=\\'text/javascript\\'>\\n/* <![CDATA[ */\\nvar wc_cart_fragments_params = {\"ajax_url\":\"\\\\/wp-admin\\\\/admin-ajax.php\",\"wc_ajax_url\":\"\\\\/?wc-ajax=%%endpoint%%\",\"cart_hash_key\":\"wc_cart_hash_d4113877938f700a0b9d0521465fe1ca\",\"fragment_name\":\"wc_fragments_d4113877938f700a0b9d0521465fe1ca\"};\\n/* ]]> */\\n</script>\\n<script type=\\'text/javascript\\' src=\\'https://scrapeme.live/wp-content/plugins/woocommerce/assets/js/frontend/cart-fragments.min.js?ver=3.4.8\\'></script>\\n<script type=\\'text/javascript\\' src=\\'https://scrapeme.live/wp-content/themes/storefront/assets/js/navigation.min.js?ver=2.3.3\\'></script>\\n<script type=\\'text/javascript\\' src=\\'https://scrapeme.live/wp-content/themes/storefront/assets/js/skip-link-focus-fix.min.js?ver=20130115\\'></script>\\n<script type=\\'text/javascript\\' src=\\'https://scrapeme.live/wp-content/themes/storefront/assets/js/woocommerce/header-cart.min.js?ver=2.3.3\\'></script>\\n<script type=\\'text/javascript\\' src=\\'https://scrapeme.live/wp-includes/js/wp-embed.min.js?ver=4.9.26\\'></script>\\n\\n</body>\\n</html>\\n'"
            ],
            "application/vnd.google.colaboratory.intrinsic+json": {
              "type": "string"
            }
          },
          "metadata": {},
          "execution_count": 7
        }
      ]
    },
    {
      "cell_type": "code",
      "source": [
        "# Loop through every page\n",
        "for page in range(1, last_page + 1):\n",
        "    url = base_url if page == 1 else f\"{base_url}page/{page}/\"\n",
        "    print(f\"Scraping page {page} ...\")\n",
        "\n",
        "    response = requests.get(url, verify=False)\n",
        "    soup = BeautifulSoup(response.text, \"html.parser\")\n",
        "\n",
        "    # Find all products in page\n",
        "    products = soup.find_all(\"li\", class_=\"product\")\n",
        "\n",
        "    for product in products:\n",
        "        # Product name\n",
        "        name = product.find(\"h2\", class_=\"woocommerce-loop-product__title\")\n",
        "        name = name.text.strip() if name else \"\"\n",
        "\n",
        "        # Product price\n",
        "        price = product.find(\"span\", class_=\"woocommerce-Price-amount\")\n",
        "        price = price.text.strip() if price else \"\"\n",
        "\n",
        "        # Link to detail page\n",
        "        link = product.find(\"a\", href=True)\n",
        "        if link:\n",
        "            detail_url = link['href']\n",
        "            detail_response = requests.get(detail_url, verify=False)\n",
        "            detail_soup = BeautifulSoup(detail_response.text, \"html.parser\")\n",
        "\n",
        "            # Description\n",
        "            desc_tag = detail_soup.find(\"div\", class_=\"woocommerce-product-details__short-description\")\n",
        "            description = desc_tag.text.strip() if desc_tag else \"\"\n",
        "\n",
        "            # Category\n",
        "            cat_tag = detail_soup.find(\"span\", class_=\"posted_in\")\n",
        "            category = cat_tag.text.replace(\"Category:\", \"\").replace(\"Categories:\", \"\").strip() if cat_tag else \"\"\n",
        "\n",
        "            # SKU\n",
        "            sku_tag = detail_soup.find(\"span\", class_=\"sku\")\n",
        "            sku = sku_tag.text.strip() if sku_tag else \"\"\n",
        "\n",
        "            # Tags\n",
        "            tag_tag = detail_soup.find(\"span\", class_=\"tagged_as\")\n",
        "            tags = tag_tag.text.replace(\"Tags:\", \"\").strip() if tag_tag else \"\"\n",
        "\n",
        "            # Stock status\n",
        "            stock_tag = detail_soup.find(\"p\", class_=\"stock\")\n",
        "            stock = stock_tag.text.strip() if stock_tag else \"\"\n",
        "        else:\n",
        "            description, category, sku, tags, stock = \"\", \"\", \"\", \"\", \"\"\n",
        "\n",
        "        # Append to lists\n",
        "        names.append(name)\n",
        "        prices.append(price)\n",
        "        descriptions.append(description)\n",
        "        categories.append(category)\n",
        "        skus.append(sku)\n",
        "        tags_list.append(tags)\n",
        "        stocks.append(stock)"
      ],
      "metadata": {
        "colab": {
          "base_uri": "https://localhost:8080/"
        },
        "id": "ty3VVkHwQRBY",
        "outputId": "9683f464-f0f2-48d1-8d42-c48094db2f13"
      },
      "execution_count": 4,
      "outputs": [
        {
          "output_type": "stream",
          "name": "stdout",
          "text": [
            "Scraping page 1 ...\n",
            "Scraping page 2 ...\n",
            "Scraping page 3 ...\n",
            "Scraping page 4 ...\n",
            "Scraping page 5 ...\n",
            "Scraping page 6 ...\n",
            "Scraping page 7 ...\n",
            "Scraping page 8 ...\n",
            "Scraping page 9 ...\n",
            "Scraping page 10 ...\n",
            "Scraping page 11 ...\n",
            "Scraping page 12 ...\n",
            "Scraping page 13 ...\n",
            "Scraping page 14 ...\n",
            "Scraping page 15 ...\n",
            "Scraping page 16 ...\n",
            "Scraping page 17 ...\n",
            "Scraping page 18 ...\n",
            "Scraping page 19 ...\n",
            "Scraping page 20 ...\n",
            "Scraping page 21 ...\n",
            "Scraping page 22 ...\n",
            "Scraping page 23 ...\n",
            "Scraping page 24 ...\n",
            "Scraping page 25 ...\n",
            "Scraping page 26 ...\n",
            "Scraping page 27 ...\n",
            "Scraping page 28 ...\n",
            "Scraping page 29 ...\n",
            "Scraping page 30 ...\n",
            "Scraping page 31 ...\n",
            "Scraping page 32 ...\n",
            "Scraping page 33 ...\n",
            "Scraping page 34 ...\n",
            "Scraping page 35 ...\n",
            "Scraping page 36 ...\n",
            "Scraping page 37 ...\n",
            "Scraping page 38 ...\n",
            "Scraping page 39 ...\n",
            "Scraping page 40 ...\n",
            "Scraping page 41 ...\n",
            "Scraping page 42 ...\n",
            "Scraping page 43 ...\n",
            "Scraping page 44 ...\n",
            "Scraping page 45 ...\n",
            "Scraping page 46 ...\n",
            "Scraping page 47 ...\n",
            "Scraping page 48 ...\n"
          ]
        }
      ]
    },
    {
      "cell_type": "code",
      "source": [
        "# Create DataFrame\n",
        "df = pd.DataFrame({\n",
        "    \"Name\": names,\n",
        "    \"Price\": prices,\n",
        "    \"Description\": descriptions,\n",
        "    \"Category\": categories,\n",
        "    \"SKU\": skus,\n",
        "    \"Tags\": tags_list,\n",
        "    \"Stock_Status\": stocks\n",
        "})\n",
        "\n",
        "# Save to CSV\n",
        "df.to_csv(\"scrapeme_products_full.csv\", index=False)\n",
        "\n",
        "print(df.head())\n",
        "print(f\"\\nTotal products scraped: {len(df)}\")\n",
        "print(\"Data saved to scrapeme_products_full.csv\")"
      ],
      "metadata": {
        "colab": {
          "base_uri": "https://localhost:8080/"
        },
        "id": "Xl9x5pTEQVVM",
        "outputId": "49c44ffc-56ac-4cc6-c26f-e0ab889a8979"
      },
      "execution_count": 5,
      "outputs": [
        {
          "output_type": "stream",
          "name": "stdout",
          "text": [
            "         Name    Price                                        Description  \\\n",
            "0   Bulbasaur   £63.00  Bulbasaur can be seen napping in bright sunlig...   \n",
            "1     Ivysaur   £87.00  There is a bud on this Pokémon’s back. To supp...   \n",
            "2    Venusaur  £105.00  There is a large flower on Venusaur’s back. Th...   \n",
            "3  Charmander   £48.00  The flame that burns at the tip of its tail is...   \n",
            "4  Charmeleon  £165.00  Charmeleon mercilessly destroys its foes using...   \n",
            "\n",
            "          Category   SKU                       Tags  Stock_Status  \n",
            "0    Pokemon, Seed  4391  bulbasaur, Overgrow, Seed   45 in stock  \n",
            "1    Pokemon, Seed  7227    ivysaur, Overgrow, Seed  142 in stock  \n",
            "2    Pokemon, Seed  7036   Overgrow, Seed, venusaur   30 in stock  \n",
            "3  Lizard, Pokemon  9086  Blaze, charmander, Lizard  206 in stock  \n",
            "4   Flame, Pokemon  6565   Blaze, charmeleon, Flame  284 in stock  \n",
            "\n",
            "Total products scraped: 755\n",
            "Data saved to scrapeme_products_full.csv\n"
          ]
        }
      ]
    }
  ]
}